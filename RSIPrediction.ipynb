{
 "cells": [
  {
   "cell_type": "markdown",
   "metadata": {},
   "source": [
    "# Predicting RSI values using LSTMs"
   ]
  },
  {
   "cell_type": "markdown",
   "metadata": {},
   "source": [
    "## Introduction\n",
    "\n",
    "This project aims to use a use a Long Short Term Memory (LSTM) neural network to predict the Relative Strength Index (RSI) of a security. The RSI is a momentum indicator, used in technical analysis, that measures the speed and magnitude of a security's recent price changes to evaluate overvalued and undervalued conditions. \n",
    "\n",
    "The RSI is displayed as an oscillator on the scale of 0 to 100 and is typically calculated using a 14-day period. An RSI above 70 is considered overbought, while an RSI below 30 is considered oversold. \n",
    "\n",
    "RSI is found using a two-part calculation starting with the following formula:\n",
    "$$RSI_{\\text{step one}} = 100 - \\frac{100}{1+\\frac{\\overline{gains}}{\\overline{losses}}}$$\n",
    "\n",
    "Where the average gain and average loss are calculated using the following formulas:\n",
    "$$\\text{$\\overline{gains}$} = \\frac{\\sum\\text{ gains over past } n \\text{ days}}{n}$$\n",
    "$$\\text{$\\overline{losses}$} = \\frac{\\sum\\text{ losses over past } n \\text{ days}}{n}$$\n",
    "Periods of gain are counted as 0 in the losses calculation and vice versa.\n",
    "The standard nuymber of periods used to calculate RSI is 14 days. \n",
    "\n",
    "The second part of the calculation is to smooth the RSI value using the following formula after 14 periods of data have been collected:\n",
    "$$RSI_{\\text{step two}} = 100 - \\frac{100}{1 + \\frac{Previous \\ \\overline{gains} \\ \\cdot \\ (n-1)+ Current \\ gain }{Previous \\text{ } \\overline{losses} \\cdot (n-1) + Current \\ gain}}$$\n",
    "Where n is the number of periods used to calculate the RSI."
   ]
  },
  {
   "cell_type": "markdown",
   "metadata": {},
   "source": [
    "## Data Preparation"
   ]
  },
  {
   "cell_type": "markdown",
   "metadata": {},
   "source": [
    "### Computing RSI Values"
   ]
  },
  {
   "cell_type": "code",
   "execution_count": 12,
   "metadata": {},
   "outputs": [],
   "source": [
    "import pandas as pd\n",
    "import numpy as np\n",
    "from sklearn.preprocessing import MinMaxScaler\n",
    "import yfinance as yf\n",
    "\n",
    "def rsi(data, window=14):\n",
    "    delta = data['Close'].diff(1)\n",
    "    \n",
    "    gains, losses = delta.where(delta > 0, 0), -delta.where(delta < 0, 0)\n",
    "\n",
    "    avg_gain, avg_loss = np.mean(gains.iloc[1:window+1]), np.mean(losses.iloc[1:window+1])\n",
    "\n",
    "    rsi_values  = ([np.nan] * window)\n",
    "    if avg_loss == 0:\n",
    "        rsi_values.append(100)\n",
    "    else: \n",
    "        rsi_values.append((100 - (100 / (1 + (avg_gain / avg_loss)))))\n",
    "\n",
    "    for i in range(window + 1, len(delta)):\n",
    "        avg_gain, avg_loss = (avg_gain * (window-1) + gains.iloc[i]) / window, (avg_loss * (window-1) + losses.iloc[i]) / window\n",
    "\n",
    "        rsi_values.append(100 - (100 / (1 + (avg_gain/avg_loss))))\n",
    "\n",
    "    return rsi_values"
   ]
  },
  {
   "cell_type": "markdown",
   "metadata": {},
   "source": [
    "### Fetching Data"
   ]
  },
  {
   "cell_type": "code",
   "execution_count": 13,
   "metadata": {},
   "outputs": [
    {
     "name": "stderr",
     "output_type": "stream",
     "text": [
      "[*********************100%***********************]  1 of 1 completed\n",
      "[*********************100%***********************]  1 of 1 completed\n",
      "[*********************100%***********************]  1 of 1 completed\n",
      "[*********************100%***********************]  1 of 1 completed\n",
      "[*********************100%***********************]  1 of 1 completed\n",
      "[*********************100%***********************]  1 of 1 completed\n",
      "[*********************100%***********************]  1 of 1 completed\n",
      "[*********************100%***********************]  1 of 1 completed\n",
      "[*********************100%***********************]  1 of 1 completed\n"
     ]
    },
    {
     "data": {
      "text/html": [
       "<div>\n",
       "<style scoped>\n",
       "    .dataframe tbody tr th:only-of-type {\n",
       "        vertical-align: middle;\n",
       "    }\n",
       "\n",
       "    .dataframe tbody tr th {\n",
       "        vertical-align: top;\n",
       "    }\n",
       "\n",
       "    .dataframe thead th {\n",
       "        text-align: right;\n",
       "    }\n",
       "</style>\n",
       "<table border=\"1\" class=\"dataframe\">\n",
       "  <thead>\n",
       "    <tr style=\"text-align: right;\">\n",
       "      <th></th>\n",
       "      <th>Open</th>\n",
       "      <th>High</th>\n",
       "      <th>Low</th>\n",
       "      <th>Close</th>\n",
       "      <th>Adj Close</th>\n",
       "      <th>Volume</th>\n",
       "      <th>RSI</th>\n",
       "    </tr>\n",
       "    <tr>\n",
       "      <th>Date</th>\n",
       "      <th></th>\n",
       "      <th></th>\n",
       "      <th></th>\n",
       "      <th></th>\n",
       "      <th></th>\n",
       "      <th></th>\n",
       "      <th></th>\n",
       "    </tr>\n",
       "  </thead>\n",
       "  <tbody>\n",
       "    <tr>\n",
       "      <th>2023-10-25</th>\n",
       "      <td>356.700012</td>\n",
       "      <td>356.880005</td>\n",
       "      <td>349.750000</td>\n",
       "      <td>350.339996</td>\n",
       "      <td>347.953583</td>\n",
       "      <td>71190500</td>\n",
       "      <td>41.770151</td>\n",
       "    </tr>\n",
       "    <tr>\n",
       "      <th>2023-10-26</th>\n",
       "      <td>349.119995</td>\n",
       "      <td>350.070007</td>\n",
       "      <td>342.350006</td>\n",
       "      <td>343.660004</td>\n",
       "      <td>341.319061</td>\n",
       "      <td>78621400</td>\n",
       "      <td>36.582518</td>\n",
       "    </tr>\n",
       "    <tr>\n",
       "      <th>2023-10-27</th>\n",
       "      <td>346.429993</td>\n",
       "      <td>348.839996</td>\n",
       "      <td>344.079987</td>\n",
       "      <td>345.309998</td>\n",
       "      <td>342.957794</td>\n",
       "      <td>63476700</td>\n",
       "      <td>38.610610</td>\n",
       "    </tr>\n",
       "    <tr>\n",
       "      <th>2023-10-30</th>\n",
       "      <td>347.829987</td>\n",
       "      <td>350.540009</td>\n",
       "      <td>346.450012</td>\n",
       "      <td>349.200012</td>\n",
       "      <td>346.821320</td>\n",
       "      <td>55298500</td>\n",
       "      <td>43.220826</td>\n",
       "    </tr>\n",
       "    <tr>\n",
       "      <th>2023-10-31</th>\n",
       "      <td>349.230011</td>\n",
       "      <td>351.250000</td>\n",
       "      <td>346.619995</td>\n",
       "      <td>350.869995</td>\n",
       "      <td>348.479950</td>\n",
       "      <td>47671900</td>\n",
       "      <td>45.126022</td>\n",
       "    </tr>\n",
       "  </tbody>\n",
       "</table>\n",
       "</div>"
      ],
      "text/plain": [
       "                  Open        High         Low       Close   Adj Close  \\\n",
       "Date                                                                     \n",
       "2023-10-25  356.700012  356.880005  349.750000  350.339996  347.953583   \n",
       "2023-10-26  349.119995  350.070007  342.350006  343.660004  341.319061   \n",
       "2023-10-27  346.429993  348.839996  344.079987  345.309998  342.957794   \n",
       "2023-10-30  347.829987  350.540009  346.450012  349.200012  346.821320   \n",
       "2023-10-31  349.230011  351.250000  346.619995  350.869995  348.479950   \n",
       "\n",
       "              Volume        RSI  \n",
       "Date                             \n",
       "2023-10-25  71190500  41.770151  \n",
       "2023-10-26  78621400  36.582518  \n",
       "2023-10-27  63476700  38.610610  \n",
       "2023-10-30  55298500  43.220826  \n",
       "2023-10-31  47671900  45.126022  "
      ]
     },
     "execution_count": 13,
     "metadata": {},
     "output_type": "execute_result"
    }
   ],
   "source": [
    "stocks, stock_data = [\"AAPL\", \"MSFT\", \"GOOGL\", \"AMZN\", \"META\", \"TSLA\", \"NFLX\", \"NVDA\", \"QQQ\"], {}\n",
    "\n",
    "\n",
    "for stock in stocks:\n",
    "    df = pd.DataFrame(yf.download(stock, period='1y')).reset_index()\n",
    "    df['Date'] = pd.to_datetime(df['Date'])\n",
    "    df.set_index('Date', inplace=True)\n",
    "\n",
    "    df['RSI'] = rsi(df)\n",
    "    df.dropna(inplace=True)\n",
    "\n",
    "    stock_data[stock] = df\n",
    "\n",
    "df.head()"
   ]
  },
  {
   "cell_type": "markdown",
   "metadata": {},
   "source": [
    "### Normalizing Data"
   ]
  },
  {
   "cell_type": "code",
   "execution_count": 14,
   "metadata": {},
   "outputs": [
    {
     "data": {
      "text/html": [
       "<div>\n",
       "<style scoped>\n",
       "    .dataframe tbody tr th:only-of-type {\n",
       "        vertical-align: middle;\n",
       "    }\n",
       "\n",
       "    .dataframe tbody tr th {\n",
       "        vertical-align: top;\n",
       "    }\n",
       "\n",
       "    .dataframe thead th {\n",
       "        text-align: right;\n",
       "    }\n",
       "</style>\n",
       "<table border=\"1\" class=\"dataframe\">\n",
       "  <thead>\n",
       "    <tr style=\"text-align: right;\">\n",
       "      <th></th>\n",
       "      <th>Open</th>\n",
       "      <th>High</th>\n",
       "      <th>Low</th>\n",
       "      <th>Close</th>\n",
       "      <th>Adj Close</th>\n",
       "      <th>Volume</th>\n",
       "      <th>RSI</th>\n",
       "      <th>RSI_Scaled</th>\n",
       "    </tr>\n",
       "    <tr>\n",
       "      <th>Date</th>\n",
       "      <th></th>\n",
       "      <th></th>\n",
       "      <th></th>\n",
       "      <th></th>\n",
       "      <th></th>\n",
       "      <th></th>\n",
       "      <th></th>\n",
       "      <th></th>\n",
       "    </tr>\n",
       "  </thead>\n",
       "  <tbody>\n",
       "    <tr>\n",
       "      <th>2023-10-25</th>\n",
       "      <td>356.700012</td>\n",
       "      <td>356.880005</td>\n",
       "      <td>349.750000</td>\n",
       "      <td>350.339996</td>\n",
       "      <td>347.953583</td>\n",
       "      <td>71190500</td>\n",
       "      <td>41.770151</td>\n",
       "      <td>0.233357</td>\n",
       "    </tr>\n",
       "    <tr>\n",
       "      <th>2023-10-26</th>\n",
       "      <td>349.119995</td>\n",
       "      <td>350.070007</td>\n",
       "      <td>342.350006</td>\n",
       "      <td>343.660004</td>\n",
       "      <td>341.319061</td>\n",
       "      <td>78621400</td>\n",
       "      <td>36.582518</td>\n",
       "      <td>0.133481</td>\n",
       "    </tr>\n",
       "    <tr>\n",
       "      <th>2023-10-27</th>\n",
       "      <td>346.429993</td>\n",
       "      <td>348.839996</td>\n",
       "      <td>344.079987</td>\n",
       "      <td>345.309998</td>\n",
       "      <td>342.957794</td>\n",
       "      <td>63476700</td>\n",
       "      <td>38.610610</td>\n",
       "      <td>0.172527</td>\n",
       "    </tr>\n",
       "    <tr>\n",
       "      <th>2023-10-30</th>\n",
       "      <td>347.829987</td>\n",
       "      <td>350.540009</td>\n",
       "      <td>346.450012</td>\n",
       "      <td>349.200012</td>\n",
       "      <td>346.821320</td>\n",
       "      <td>55298500</td>\n",
       "      <td>43.220826</td>\n",
       "      <td>0.261287</td>\n",
       "    </tr>\n",
       "    <tr>\n",
       "      <th>2023-10-31</th>\n",
       "      <td>349.230011</td>\n",
       "      <td>351.250000</td>\n",
       "      <td>346.619995</td>\n",
       "      <td>350.869995</td>\n",
       "      <td>348.479950</td>\n",
       "      <td>47671900</td>\n",
       "      <td>45.126022</td>\n",
       "      <td>0.297967</td>\n",
       "    </tr>\n",
       "  </tbody>\n",
       "</table>\n",
       "</div>"
      ],
      "text/plain": [
       "                  Open        High         Low       Close   Adj Close  \\\n",
       "Date                                                                     \n",
       "2023-10-25  356.700012  356.880005  349.750000  350.339996  347.953583   \n",
       "2023-10-26  349.119995  350.070007  342.350006  343.660004  341.319061   \n",
       "2023-10-27  346.429993  348.839996  344.079987  345.309998  342.957794   \n",
       "2023-10-30  347.829987  350.540009  346.450012  349.200012  346.821320   \n",
       "2023-10-31  349.230011  351.250000  346.619995  350.869995  348.479950   \n",
       "\n",
       "              Volume        RSI  RSI_Scaled  \n",
       "Date                                         \n",
       "2023-10-25  71190500  41.770151    0.233357  \n",
       "2023-10-26  78621400  36.582518    0.133481  \n",
       "2023-10-27  63476700  38.610610    0.172527  \n",
       "2023-10-30  55298500  43.220826    0.261287  \n",
       "2023-10-31  47671900  45.126022    0.297967  "
      ]
     },
     "execution_count": 14,
     "metadata": {},
     "output_type": "execute_result"
    }
   ],
   "source": [
    "scalers = {}\n",
    "\n",
    "for stock in stocks:\n",
    "    scalers[stock], df = MinMaxScaler(feature_range=(0, 1)), stock_data[stock]\n",
    "    df['RSI_Scaled'] = scalers[stock].fit_transform(df['RSI'].values.reshape(-1, 1))\n",
    "    stock_data[stock] = df\n",
    "\n",
    "df.head()"
   ]
  },
  {
   "cell_type": "markdown",
   "metadata": {},
   "source": [
    "### Creating Sequences for LSTM"
   ]
  },
  {
   "cell_type": "code",
   "execution_count": 15,
   "metadata": {},
   "outputs": [],
   "source": [
    "sequences, sequence_len = {}, 60\n",
    "\n",
    "for stock in stocks:\n",
    "    df, X, y = stock_data[stock], [], []\n",
    "\n",
    "    for i in range(sequence_len, len(df['RSI_Scaled'])):\n",
    "        X.append(df['RSI_Scaled'].iloc[i-sequence_len:i])\n",
    "        y.append(df['RSI_Scaled'].iloc[i])\n",
    "    X, y = np.array(X), np.array(y)\n",
    "\n",
    "    X = np.reshape(X, (X.shape[0], X.shape[1], 1))\n",
    "    sequences[stock] = (X, y)"
   ]
  },
  {
   "cell_type": "markdown",
   "metadata": {},
   "source": [
    "### Splitting Data"
   ]
  },
  {
   "cell_type": "code",
   "execution_count": 16,
   "metadata": {},
   "outputs": [
    {
     "data": {
      "text/html": [
       "<div>\n",
       "<style scoped>\n",
       "    .dataframe tbody tr th:only-of-type {\n",
       "        vertical-align: middle;\n",
       "    }\n",
       "\n",
       "    .dataframe tbody tr th {\n",
       "        vertical-align: top;\n",
       "    }\n",
       "\n",
       "    .dataframe thead th {\n",
       "        text-align: right;\n",
       "    }\n",
       "</style>\n",
       "<table border=\"1\" class=\"dataframe\">\n",
       "  <thead>\n",
       "    <tr style=\"text-align: right;\">\n",
       "      <th></th>\n",
       "      <th>Open</th>\n",
       "      <th>High</th>\n",
       "      <th>Low</th>\n",
       "      <th>Close</th>\n",
       "      <th>Adj Close</th>\n",
       "      <th>Volume</th>\n",
       "      <th>RSI</th>\n",
       "      <th>RSI_Scaled</th>\n",
       "    </tr>\n",
       "    <tr>\n",
       "      <th>Date</th>\n",
       "      <th></th>\n",
       "      <th></th>\n",
       "      <th></th>\n",
       "      <th></th>\n",
       "      <th></th>\n",
       "      <th></th>\n",
       "      <th></th>\n",
       "      <th></th>\n",
       "    </tr>\n",
       "  </thead>\n",
       "  <tbody>\n",
       "    <tr>\n",
       "      <th>2023-10-25</th>\n",
       "      <td>356.700012</td>\n",
       "      <td>356.880005</td>\n",
       "      <td>349.750000</td>\n",
       "      <td>350.339996</td>\n",
       "      <td>347.953583</td>\n",
       "      <td>71190500</td>\n",
       "      <td>41.770151</td>\n",
       "      <td>0.233357</td>\n",
       "    </tr>\n",
       "    <tr>\n",
       "      <th>2023-10-26</th>\n",
       "      <td>349.119995</td>\n",
       "      <td>350.070007</td>\n",
       "      <td>342.350006</td>\n",
       "      <td>343.660004</td>\n",
       "      <td>341.319061</td>\n",
       "      <td>78621400</td>\n",
       "      <td>36.582518</td>\n",
       "      <td>0.133481</td>\n",
       "    </tr>\n",
       "    <tr>\n",
       "      <th>2023-10-27</th>\n",
       "      <td>346.429993</td>\n",
       "      <td>348.839996</td>\n",
       "      <td>344.079987</td>\n",
       "      <td>345.309998</td>\n",
       "      <td>342.957794</td>\n",
       "      <td>63476700</td>\n",
       "      <td>38.610610</td>\n",
       "      <td>0.172527</td>\n",
       "    </tr>\n",
       "    <tr>\n",
       "      <th>2023-10-30</th>\n",
       "      <td>347.829987</td>\n",
       "      <td>350.540009</td>\n",
       "      <td>346.450012</td>\n",
       "      <td>349.200012</td>\n",
       "      <td>346.821320</td>\n",
       "      <td>55298500</td>\n",
       "      <td>43.220826</td>\n",
       "      <td>0.261287</td>\n",
       "    </tr>\n",
       "    <tr>\n",
       "      <th>2023-10-31</th>\n",
       "      <td>349.230011</td>\n",
       "      <td>351.250000</td>\n",
       "      <td>346.619995</td>\n",
       "      <td>350.869995</td>\n",
       "      <td>348.479950</td>\n",
       "      <td>47671900</td>\n",
       "      <td>45.126022</td>\n",
       "      <td>0.297967</td>\n",
       "    </tr>\n",
       "  </tbody>\n",
       "</table>\n",
       "</div>"
      ],
      "text/plain": [
       "                  Open        High         Low       Close   Adj Close  \\\n",
       "Date                                                                     \n",
       "2023-10-25  356.700012  356.880005  349.750000  350.339996  347.953583   \n",
       "2023-10-26  349.119995  350.070007  342.350006  343.660004  341.319061   \n",
       "2023-10-27  346.429993  348.839996  344.079987  345.309998  342.957794   \n",
       "2023-10-30  347.829987  350.540009  346.450012  349.200012  346.821320   \n",
       "2023-10-31  349.230011  351.250000  346.619995  350.869995  348.479950   \n",
       "\n",
       "              Volume        RSI  RSI_Scaled  \n",
       "Date                                         \n",
       "2023-10-25  71190500  41.770151    0.233357  \n",
       "2023-10-26  78621400  36.582518    0.133481  \n",
       "2023-10-27  63476700  38.610610    0.172527  \n",
       "2023-10-30  55298500  43.220826    0.261287  \n",
       "2023-10-31  47671900  45.126022    0.297967  "
      ]
     },
     "execution_count": 16,
     "metadata": {},
     "output_type": "execute_result"
    }
   ],
   "source": [
    "splits = {}\n",
    "\n",
    "for stock in stocks:\n",
    "    X, y = sequences[stock]\n",
    "    train_size = int(len(X) * 0.8)\n",
    "    X_train, X_test, y_train, y_test = X[:train_size], X[train_size:], y[:train_size], y[train_size:]\n",
    "\n",
    "    splits[stock] = (X_train, X_test, y_train, y_test)\n",
    "\n",
    "df.head()"
   ]
  },
  {
   "cell_type": "markdown",
   "metadata": {},
   "source": [
    "## Implementing the Model"
   ]
  },
  {
   "cell_type": "markdown",
   "metadata": {},
   "source": [
    "### Implementing LSTM Model"
   ]
  },
  {
   "cell_type": "code",
   "execution_count": 17,
   "metadata": {},
   "outputs": [
    {
     "name": "stderr",
     "output_type": "stream",
     "text": [
      "/Users/dominic/Projects/indicatr/venv/lib/python3.12/site-packages/keras/src/layers/rnn/rnn.py:204: UserWarning: Do not pass an `input_shape`/`input_dim` argument to a layer. When using Sequential models, prefer using an `Input(shape)` object as the first layer in the model instead.\n",
      "  super().__init__(**kwargs)\n"
     ]
    }
   ],
   "source": [
    "from tensorflow.keras.models import Sequential\n",
    "from tensorflow.keras.layers import LSTM, Dense, Dropout\n",
    "\n",
    "data = splits[\"AAPL\"]\n",
    "\n",
    "model = Sequential()\n",
    "\n",
    "model.add(LSTM(units=100, return_sequences=True, input_shape=(data[0].shape[1], 1)))\n",
    "model.add(Dropout(0.5))\n",
    "model.add(LSTM(units=100, return_sequences=False))\n",
    "model.add(Dropout(0.5))\n",
    "model.add(Dense(units=1))\n",
    "\n",
    "model.compile(optimizer='adam', loss='mean_squared_error')"
   ]
  },
  {
   "cell_type": "markdown",
   "metadata": {},
   "source": [
    "### Training the Model"
   ]
  },
  {
   "cell_type": "code",
   "execution_count": 18,
   "metadata": {},
   "outputs": [
    {
     "name": "stdout",
     "output_type": "stream",
     "text": [
      "Epoch 1/20\n",
      "\u001b[1m5/5\u001b[0m \u001b[32m━━━━━━━━━━━━━━━━━━━━\u001b[0m\u001b[37m\u001b[0m \u001b[1m1s\u001b[0m 73ms/step - loss: 0.2962 - val_loss: 0.0195\n",
      "Epoch 2/20\n",
      "\u001b[1m5/5\u001b[0m \u001b[32m━━━━━━━━━━━━━━━━━━━━\u001b[0m\u001b[37m\u001b[0m \u001b[1m0s\u001b[0m 41ms/step - loss: 0.0599 - val_loss: 0.0189\n",
      "Epoch 3/20\n",
      "\u001b[1m5/5\u001b[0m \u001b[32m━━━━━━━━━━━━━━━━━━━━\u001b[0m\u001b[37m\u001b[0m \u001b[1m0s\u001b[0m 43ms/step - loss: 0.0345 - val_loss: 0.0352\n",
      "Epoch 4/20\n",
      "\u001b[1m5/5\u001b[0m \u001b[32m━━━━━━━━━━━━━━━━━━━━\u001b[0m\u001b[37m\u001b[0m \u001b[1m0s\u001b[0m 42ms/step - loss: 0.0373 - val_loss: 0.0190\n",
      "Epoch 5/20\n",
      "\u001b[1m5/5\u001b[0m \u001b[32m━━━━━━━━━━━━━━━━━━━━\u001b[0m\u001b[37m\u001b[0m \u001b[1m0s\u001b[0m 42ms/step - loss: 0.0265 - val_loss: 0.0191\n",
      "Epoch 6/20\n",
      "\u001b[1m5/5\u001b[0m \u001b[32m━━━━━━━━━━━━━━━━━━━━\u001b[0m\u001b[37m\u001b[0m \u001b[1m0s\u001b[0m 42ms/step - loss: 0.0275 - val_loss: 0.0172\n",
      "Epoch 7/20\n",
      "\u001b[1m5/5\u001b[0m \u001b[32m━━━━━━━━━━━━━━━━━━━━\u001b[0m\u001b[37m\u001b[0m \u001b[1m0s\u001b[0m 42ms/step - loss: 0.0269 - val_loss: 0.0192\n",
      "Epoch 8/20\n",
      "\u001b[1m5/5\u001b[0m \u001b[32m━━━━━━━━━━━━━━━━━━━━\u001b[0m\u001b[37m\u001b[0m \u001b[1m0s\u001b[0m 42ms/step - loss: 0.0278 - val_loss: 0.0173\n",
      "Epoch 9/20\n",
      "\u001b[1m5/5\u001b[0m \u001b[32m━━━━━━━━━━━━━━━━━━━━\u001b[0m\u001b[37m\u001b[0m \u001b[1m0s\u001b[0m 42ms/step - loss: 0.0284 - val_loss: 0.0169\n",
      "Epoch 10/20\n",
      "\u001b[1m5/5\u001b[0m \u001b[32m━━━━━━━━━━━━━━━━━━━━\u001b[0m\u001b[37m\u001b[0m \u001b[1m0s\u001b[0m 42ms/step - loss: 0.0279 - val_loss: 0.0176\n",
      "Epoch 11/20\n",
      "\u001b[1m5/5\u001b[0m \u001b[32m━━━━━━━━━━━━━━━━━━━━\u001b[0m\u001b[37m\u001b[0m \u001b[1m0s\u001b[0m 47ms/step - loss: 0.0272 - val_loss: 0.0169\n",
      "Epoch 12/20\n",
      "\u001b[1m5/5\u001b[0m \u001b[32m━━━━━━━━━━━━━━━━━━━━\u001b[0m\u001b[37m\u001b[0m \u001b[1m0s\u001b[0m 43ms/step - loss: 0.0236 - val_loss: 0.0169\n",
      "Epoch 13/20\n",
      "\u001b[1m5/5\u001b[0m \u001b[32m━━━━━━━━━━━━━━━━━━━━\u001b[0m\u001b[37m\u001b[0m \u001b[1m0s\u001b[0m 47ms/step - loss: 0.0236 - val_loss: 0.0167\n",
      "Epoch 14/20\n",
      "\u001b[1m5/5\u001b[0m \u001b[32m━━━━━━━━━━━━━━━━━━━━\u001b[0m\u001b[37m\u001b[0m \u001b[1m0s\u001b[0m 42ms/step - loss: 0.0275 - val_loss: 0.0167\n",
      "Epoch 15/20\n",
      "\u001b[1m5/5\u001b[0m \u001b[32m━━━━━━━━━━━━━━━━━━━━\u001b[0m\u001b[37m\u001b[0m \u001b[1m0s\u001b[0m 40ms/step - loss: 0.0235 - val_loss: 0.0167\n",
      "Epoch 16/20\n",
      "\u001b[1m5/5\u001b[0m \u001b[32m━━━━━━━━━━━━━━━━━━━━\u001b[0m\u001b[37m\u001b[0m \u001b[1m0s\u001b[0m 42ms/step - loss: 0.0271 - val_loss: 0.0165\n",
      "Epoch 17/20\n",
      "\u001b[1m5/5\u001b[0m \u001b[32m━━━━━━━━━━━━━━━━━━━━\u001b[0m\u001b[37m\u001b[0m \u001b[1m0s\u001b[0m 47ms/step - loss: 0.0279 - val_loss: 0.0176\n",
      "Epoch 18/20\n",
      "\u001b[1m5/5\u001b[0m \u001b[32m━━━━━━━━━━━━━━━━━━━━\u001b[0m\u001b[37m\u001b[0m \u001b[1m0s\u001b[0m 44ms/step - loss: 0.0199 - val_loss: 0.0166\n",
      "Epoch 19/20\n",
      "\u001b[1m5/5\u001b[0m \u001b[32m━━━━━━━━━━━━━━━━━━━━\u001b[0m\u001b[37m\u001b[0m \u001b[1m0s\u001b[0m 46ms/step - loss: 0.0236 - val_loss: 0.0160\n",
      "Epoch 20/20\n",
      "\u001b[1m5/5\u001b[0m \u001b[32m━━━━━━━━━━━━━━━━━━━━\u001b[0m\u001b[37m\u001b[0m \u001b[1m0s\u001b[0m 44ms/step - loss: 0.0242 - val_loss: 0.0158\n"
     ]
    }
   ],
   "source": [
    "history = model.fit(data[0], data[2], epochs=20, batch_size=32, validation_data=(data[1], data[3]))"
   ]
  },
  {
   "cell_type": "markdown",
   "metadata": {},
   "source": [
    "### Evaluating the Model"
   ]
  },
  {
   "cell_type": "code",
   "execution_count": 19,
   "metadata": {},
   "outputs": [
    {
     "name": "stdout",
     "output_type": "stream",
     "text": [
      "\u001b[1m2/2\u001b[0m \u001b[32m━━━━━━━━━━━━━━━━━━━━\u001b[0m\u001b[37m\u001b[0m \u001b[1m0s\u001b[0m 5ms/step - loss: 0.0162 \n",
      "MSE: 0.015766268596053123\n",
      "\u001b[1m2/2\u001b[0m \u001b[32m━━━━━━━━━━━━━━━━━━━━\u001b[0m\u001b[37m\u001b[0m \u001b[1m0s\u001b[0m 5ms/step - loss: 0.0162 \n",
      "MSE: 0.015766268596053123\n"
     ]
    }
   ],
   "source": [
    "print(\"MSE:\", model.evaluate(data[1], data[3]))"
   ]
  },
  {
   "cell_type": "code",
   "execution_count": 20,
   "metadata": {},
   "outputs": [
    {
     "name": "stdout",
     "output_type": "stream",
     "text": [
      "\u001b[1m2/2\u001b[0m \u001b[32m━━━━━━━━━━━━━━━━━━━━\u001b[0m\u001b[37m\u001b[0m \u001b[1m0s\u001b[0m 105ms/step\n"
     ]
    },
    {
     "data": {
      "image/png": "[encoded data removed]",
      "text/plain": [
       "<Figure size 640x480 with 1 Axes>"
      ]
     },
     "metadata": {},
     "output_type": "display_data"
    }
   ],
   "source": [
    "import matplotlib.pyplot as plt\n",
    "\n",
    "plt.plot(data[3], color='blue', label='RSI')\n",
    "plt.plot(model.predict(data[1]), color='red', label='Predicted RSI')\n",
    "plt.title('Actual vs Predicted RSI')\n",
    "plt.xlabel('Time')\n",
    "plt.ylabel('RSI')\n",
    "plt.legend()\n",
    "plt.show()"
   ]
  },
  {
   "cell_type": "markdown",
   "metadata": {},
   "source": [
    "## Trading Strategy"
   ]
  },
  {
   "cell_type": "markdown",
   "metadata": {},
   "source": [
    "### Implementation and Backtesting"
   ]
  },
  {
   "cell_type": "code",
   "execution_count": 35,
   "metadata": {},
   "outputs": [
    {
     "name": "stdout",
     "output_type": "stream",
     "text": [
      "\u001b[1m2/2\u001b[0m \u001b[32m━━━━━━━━━━━━━━━━━━━━\u001b[0m\u001b[37m\u001b[0m \u001b[1m0s\u001b[0m 6ms/step \n",
      "Cumulative Strategy Return: 0.04\n",
      "Market Return: 0.01\n",
      "Sharpe Ratio: 3.40\n"
     ]
    },
    {
     "name": "stderr",
     "output_type": "stream",
     "text": [
      "/var/folders/qy/v3h3mf7s06910rb44k37m4vr0000gn/T/ipykernel_455/350447468.py:16: FutureWarning: Series.__getitem__ treating keys as positions is deprecated. In a future version, integer keys will always be treated as labels (consistent with DataFrame behavior). To access a value by position, use `ser.iloc[pos]`\n",
      "  cumulative_return = signals['cumulative_strategy_returns'][-1] - 1\n",
      "/var/folders/qy/v3h3mf7s06910rb44k37m4vr0000gn/T/ipykernel_455/350447468.py:20: FutureWarning: Series.__getitem__ treating keys as positions is deprecated. In a future version, integer keys will always be treated as labels (consistent with DataFrame behavior). To access a value by position, use `ser.iloc[pos]`\n",
      "  print(f\"Market Return: {signals['cumulative_market_returns'][-1] - 1:.2f}\")\n"
     ]
    },
    {
     "data": {
      "image/png": "[encoded data removed]",
      "text/plain": [
       "<Figure size 1400x700 with 1 Axes>"
      ]
     },
     "metadata": {},
     "output_type": "display_data"
    }
   ],
   "source": [
    "predictions = model.predict(data[1])\n",
    "\n",
    "predicted_rsi, actual_rsi = scalers['AAPL'].inverse_transform(predictions),  scalers['AAPL'].inverse_transform(data[3].reshape(-1, 1))\n",
    "\n",
    "signals = pd.DataFrame(index=stock_data['AAPL'].index[-len(predictions):])\n",
    "signals['predicted_rsi'], signals['actual_rsi'], signals['signal'] = predicted_rsi, actual_rsi, 0\n",
    "\n",
    "# Buy @ RSI < 30, sell @ RSI > 70\n",
    "signals.loc[signals['predicted_rsi'] >= 60, 'signal'], signals.loc[signals['predicted_rsi'] <= 40, 'signal'] = -1, 1        \n",
    "\n",
    "signals['daily_returns'] = stock_data['AAPL']['Close'][-len(predictions):].pct_change()\n",
    "signals['strategy_returns'] = signals['daily_returns'] * signals['signal'].shift(1)\n",
    "\n",
    "signals['cumulative_strategy_returns'], signals['cumulative_market_returns'] = (1 + signals['strategy_returns']).cumprod(), (1 + signals['daily_returns']).cumprod()\n",
    "\n",
    "cumulative_return = signals['cumulative_strategy_returns'][-1] - 1\n",
    "sharpe_ratio = signals['strategy_returns'].mean() / signals['strategy_returns'].std() * np.sqrt(252)\n",
    "\n",
    "print(f\"Cumulative Strategy Return: {cumulative_return:.2f}\")\n",
    "print(f\"Market Return: {signals['cumulative_market_returns'][-1] - 1:.2f}\")\n",
    "print(f\"Sharpe Ratio: {sharpe_ratio:.2f}\")\n",
    "\n",
    "plt.figure(figsize=(14, 7))\n",
    "plt.plot(signals['cumulative_strategy_returns'], label='Strategy Returns')\n",
    "plt.plot(signals['cumulative_market_returns'], label='Market Returns')\n",
    "plt.title('Cumulative Returns of the Strategy vs Market')\n",
    "plt.xlabel('Date')\n",
    "plt.ylabel('Cumulative Returns')\n",
    "plt.legend()\n",
    "plt.show()"
   ]
  }
 ],
 "metadata": {
  "kernelspec": {
   "display_name": "venv",
   "language": "python",
   "name": "python3"
  },
  "language_info": {
   "codemirror_mode": {
    "name": "ipython",
    "version": 3
   },
   "file_extension": ".py",
   "mimetype": "text/x-python",
   "name": "python",
   "nbconvert_exporter": "python",
   "pygments_lexer": "ipython3",
   "version": "3.12.3"
  }
 },
 "nbformat": 4,
 "nbformat_minor": 2
}
